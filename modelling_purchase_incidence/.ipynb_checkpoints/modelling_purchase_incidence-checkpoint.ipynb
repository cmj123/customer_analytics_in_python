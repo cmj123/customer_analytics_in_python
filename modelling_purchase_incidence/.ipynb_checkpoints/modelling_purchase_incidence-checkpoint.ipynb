{
 "cells": [
  {
   "cell_type": "markdown",
   "metadata": {},
   "source": [
    "## Libraries"
   ]
  },
  {
   "cell_type": "code",
   "execution_count": 29,
   "metadata": {},
   "outputs": [],
   "source": [
    "import numpy as np\n",
    "import pandas as pd \n",
    "import matplotlib.pyplot as plt\n",
    "import seaborn as sns\n",
    "sns.set()\n",
    "\n",
    "from sklearn.preprocessing import StandardScaler\n",
    "from sklearn.decomposition import PCA\n",
    "from sklearn.cluster import KMeans\n",
    "\n",
    "import pickle\n",
    "\n",
    "from sklearn.linear_model import LogisticRegression"
   ]
  },
  {
   "cell_type": "markdown",
   "metadata": {},
   "source": [
    "## Data Preparation"
   ]
  },
  {
   "cell_type": "code",
   "execution_count": 30,
   "metadata": {},
   "outputs": [],
   "source": [
    "# Load Data\n",
    "df_purchase = pd.read_csv('dataset/purchase_data.csv')\n",
    "\n",
    "# Import Scaler\n",
    "scaler = pickle.load(open('dataset/scaler.pickle', 'rb'))\n",
    "\n",
    "# Import PCA\n",
    "pca = pickle.load(open('dataset/pca.pickle', 'rb'))\n",
    "\n",
    "# Import K-means\n",
    "kmeans_pca = pickle.load(open('dataset/kmeans_pca.pickle', 'rb'))\n",
    "\n",
    "# Standardization\n",
    "features = df_purchase[['Sex','Marital status', 'Age', 'Education', 'Income', 'Occupation', 'Settlement size']]\n",
    "df_purchase_segm_std = scaler.transform(features)\n",
    "\n",
    "# Apply PCA \n",
    "df_purchase_segm_pca = pca.transform(df_purchase_segm_std)\n",
    "\n",
    "# Segment data\n",
    "purchase_segm_kmeans_pca = kmeans_pca.predict(df_purchase_segm_pca)\n",
    "\n",
    "# Create a copy of the data frame\n",
    "df_purchase_predictors = df_purchase.copy()\n",
    "\n",
    "# Add segment label \n",
    "df_purchase_predictors['Segment'] = purchase_segm_kmeans_pca\n",
    "segment_dummies = pd.get_dummies(purchase_segm_kmeans_pca, prefix = 'Segment', prefix_sep = '_')\n",
    "df_purchase_predictors = pd.concat([df_purchase_predictors, segment_dummies ], axis =1)\n",
    "\n",
    "df_pa = df_purchase_predictors.copy()"
   ]
  },
  {
   "cell_type": "code",
   "execution_count": null,
   "metadata": {},
   "outputs": [],
   "source": [
    "df_pa[df_pa['Segment'] >= 1]"
   ]
  },
  {
   "cell_type": "code",
   "execution_count": null,
   "metadata": {},
   "outputs": [],
   "source": [
    "purchase_segm_kmeans_pca"
   ]
  },
  {
   "cell_type": "markdown",
   "metadata": {},
   "source": [
    "## Purchase Probability Model"
   ]
  },
  {
   "cell_type": "code",
   "execution_count": null,
   "metadata": {},
   "outputs": [],
   "source": [
    "Y = df_pa['Incidence']"
   ]
  },
  {
   "cell_type": "code",
   "execution_count": null,
   "metadata": {},
   "outputs": [],
   "source": [
    "X = pd.DataFrame()\n",
    "X['Mean_Price'] = (df_pa['Price_1'] + df_pa['Price_2'] + df_pa['Price_3'] + df_pa['Price_4'] + df_pa['Price_5'])/5"
   ]
  },
  {
   "cell_type": "code",
   "execution_count": null,
   "metadata": {},
   "outputs": [],
   "source": [
    "plt.scatter(X, df_pa['Segment_3'])"
   ]
  },
  {
   "cell_type": "code",
   "execution_count": null,
   "metadata": {},
   "outputs": [],
   "source": [
    "model_purchase = LogisticRegression(solver = 'sag')\n",
    "model_purchase.fit(X, Y)"
   ]
  },
  {
   "cell_type": "code",
   "execution_count": null,
   "metadata": {},
   "outputs": [],
   "source": [
    "model_purchase.coef_"
   ]
  },
  {
   "cell_type": "markdown",
   "metadata": {},
   "source": [
    "## Price Elasticity of Purchase Probability"
   ]
  },
  {
   "cell_type": "code",
   "execution_count": null,
   "metadata": {},
   "outputs": [],
   "source": [
    "df_pa[['Price_1','Price_2','Price_3','Price_4','Price_5']].describe()"
   ]
  },
  {
   "cell_type": "code",
   "execution_count": null,
   "metadata": {},
   "outputs": [],
   "source": [
    "price_range = np.arange(0.5, 3.5, 0.01)\n",
    "price_range"
   ]
  },
  {
   "cell_type": "code",
   "execution_count": null,
   "metadata": {},
   "outputs": [],
   "source": [
    "df_price_range = pd.DataFrame(price_range)"
   ]
  },
  {
   "cell_type": "code",
   "execution_count": null,
   "metadata": {},
   "outputs": [],
   "source": [
    "Y_pr = model_purchase.predict_proba(df_price_range)"
   ]
  },
  {
   "cell_type": "code",
   "execution_count": null,
   "metadata": {},
   "outputs": [],
   "source": [
    "# Get the probability of purchase\n",
    "purchase_pr = Y_pr[:][:,1]\n",
    "\n",
    "plt.plot(purchase_pr);"
   ]
  },
  {
   "cell_type": "code",
   "execution_count": null,
   "metadata": {},
   "outputs": [],
   "source": [
    "pe = model_purchase.coef_[:,0] * price_range * (1 - purchase_pr)"
   ]
  },
  {
   "cell_type": "code",
   "execution_count": null,
   "metadata": {},
   "outputs": [],
   "source": [
    "plt.plot(pe)"
   ]
  },
  {
   "cell_type": "code",
   "execution_count": null,
   "metadata": {},
   "outputs": [],
   "source": [
    "df_price_elasticities = pd.DataFrame(price_range)"
   ]
  },
  {
   "cell_type": "code",
   "execution_count": null,
   "metadata": {},
   "outputs": [],
   "source": [
    "df_price_elasticities = df_price_elasticities.rename(columns = {0: 'Price_Point'})\n",
    "df_price_elasticities['Mean_PE'] = pe\n",
    "df_price_elasticities.plot()"
   ]
  },
  {
   "cell_type": "code",
   "execution_count": null,
   "metadata": {},
   "outputs": [],
   "source": [
    "pd.options.display.max_rows = None \n",
    "df_price_elasticities"
   ]
  },
  {
   "cell_type": "code",
   "execution_count": null,
   "metadata": {},
   "outputs": [],
   "source": [
    "plt.figure(figsize = (9,6))\n",
    "plt.plot(price_range, pe, color='grey')\n",
    "plt.xlabel('Price')\n",
    "plt.ylabel('Elasticity')\n",
    "plt.title('Price Elasticity of Purchase')"
   ]
  },
  {
   "cell_type": "markdown",
   "metadata": {},
   "source": [
    "## Purchase Probability by Segments"
   ]
  },
  {
   "cell_type": "markdown",
   "metadata": {},
   "source": [
    "### Segment 1 - Career-Focused"
   ]
  },
  {
   "cell_type": "code",
   "execution_count": null,
   "metadata": {},
   "outputs": [],
   "source": [
    "#### Get segment 1 data\n",
    "df_pa_segment_1 = df_pa[df_pa['Segment'] == 1]\n",
    "\n",
    "## Get the incidence value for segmeent 1\n",
    "Y = df_pa_segment_1['Incidence']\n",
    "\n",
    "## Get the price average for segment 1\n",
    "X = pd.DataFrame()\n",
    "X['Mean_Price'] = (df_pa_segment_1['Price_1'] + \n",
    "                   df_pa_segment_1['Price_2'] + \n",
    "                   df_pa_segment_1['Price_5'] + \n",
    "                   df_pa_segment_1['Price_4'] +\n",
    "                   df_pa_segment_1['Price_5']) / 5\n"
   ]
  },
  {
   "cell_type": "code",
   "execution_count": null,
   "metadata": {},
   "outputs": [],
   "source": [
    "## Fit the logistic regression model\n",
    "model_incidence_segment_1 = LogisticRegression(solver='sag')\n",
    "model_incidence_segment_1.fit(X, Y)"
   ]
  },
  {
   "cell_type": "code",
   "execution_count": null,
   "metadata": {},
   "outputs": [],
   "source": [
    "## Get the coef of the model\n",
    "model_incidence_segment_1.coef_"
   ]
  },
  {
   "cell_type": "code",
   "execution_count": null,
   "metadata": {},
   "outputs": [],
   "source": [
    "# Get the probability of elasticity for segment 1\n",
    "Y_segment_1 = model_incidence_segment_1.predict_proba(df_price_range)\n",
    "\n",
    "# Probability of buying\n",
    "purchase_pr_segment_1 = Y_segment_1[:][:,1]\n",
    "\n",
    "# probability elasticity of segment 1\n",
    "pe_segment_1 = model_incidence_segment_1.coef_[:,0]*price_range*(1 - purchase_pr_segment_1)"
   ]
  },
  {
   "cell_type": "markdown",
   "metadata": {},
   "source": [
    "### Result"
   ]
  },
  {
   "cell_type": "code",
   "execution_count": null,
   "metadata": {},
   "outputs": [],
   "source": [
    "df_price_elasticities['PE_Segment_1'] = pe_segment_1\n",
    "df_price_elasticities[['Mean_PE','PE_Segment_1']].plot()"
   ]
  },
  {
   "cell_type": "code",
   "execution_count": null,
   "metadata": {},
   "outputs": [],
   "source": []
  },
  {
   "cell_type": "markdown",
   "metadata": {},
   "source": [
    "## Segment 2 - Fewer Opportunities"
   ]
  },
  {
   "cell_type": "code",
   "execution_count": null,
   "metadata": {},
   "outputs": [],
   "source": [
    "# select only customers from segment 2\n",
    "df_pa_segment_2 = df_pa[df_pa['Segment'] == 2]\n",
    "\n",
    "## Get the incidence value for segmeent 1\n",
    "Y = df_pa_segment_2['Incidence']\n",
    "\n",
    "## Get the price average for segment 1\n",
    "X = pd.DataFrame()\n",
    "X['Mean_Price'] = (df_pa_segment_2['Price_1'] + \n",
    "                   df_pa_segment_2['Price_2'] + \n",
    "                   df_pa_segment_2['Price_5'] + \n",
    "                   df_pa_segment_2['Price_4'] +\n",
    "                   df_pa_segment_2['Price_5']) / 5\n",
    "\n",
    "## Fit the logistic regression model\n",
    "model_incidence_segment_2 = LogisticRegression(solver='sag')\n",
    "model_incidence_segment_2.fit(X, Y)\n",
    "\n",
    "## Get the coef of the model\n",
    "print(model_incidence_segment_2.coef_)\n",
    "\n",
    "# Get the probability of elasticity for segment 1\n",
    "Y_segment_2 = model_incidence_segment_2.predict_proba(df_price_range)\n",
    "\n",
    "# Probability of buying\n",
    "purchase_pr_segment_2 = Y_segment_2[:][:,1]\n",
    "\n",
    "# probability elasticity of segment 1\n",
    "pe_segment_2 = model_incidence_segment_2.coef_[:,0]*price_range*(1 - purchase_pr_segment_2)\n"
   ]
  },
  {
   "cell_type": "markdown",
   "metadata": {},
   "source": [
    "## Segment 3 - Well to do"
   ]
  },
  {
   "cell_type": "code",
   "execution_count": null,
   "metadata": {},
   "outputs": [],
   "source": [
    "# select only customers from segment 3\n",
    "df_pa_segment_3 = df_pa[df_pa['Segment'] == 3]\n",
    "\n",
    "## Get the incidence value for segmeent 1\n",
    "Y = df_pa_segment_3['Incidence']\n",
    "\n",
    "## Get the price average for segment 1\n",
    "X = pd.DataFrame()\n",
    "X['Mean_Price'] = (df_pa_segment_3['Price_1'] + \n",
    "                   df_pa_segment_3['Price_2'] + \n",
    "                   df_pa_segment_3['Price_5'] + \n",
    "                   df_pa_segment_3['Price_4'] +\n",
    "                   df_pa_segment_3['Price_5']) / 5\n",
    "\n",
    "## Fit the logistic regression model\n",
    "model_incidence_segment_3 = LogisticRegression(solver='sag')\n",
    "model_incidence_segment_3.fit(X, Y)\n",
    "\n",
    "## Get the coef of the model\n",
    "print(model_incidence_segment_3.coef_)\n",
    "\n",
    "# Get the probability of elasticity for segment 1\n",
    "Y_segment_3 = model_incidence_segment_3.predict_proba(df_price_range)\n",
    "\n",
    "# Probability of buying\n",
    "purchase_pr_segment_3 = Y_segment_3[:][:,1]\n",
    "\n",
    "# probability elasticity of segment 1\n",
    "pe_segment_3 = model_incidence_segment_3.coef_[:,0]*price_range*(1 - purchase_pr_segment_3)\n"
   ]
  },
  {
   "cell_type": "code",
   "execution_count": null,
   "metadata": {},
   "outputs": [],
   "source": [
    "df_price_elasticities['PE_Segment_2'] = pe_segment_2\n",
    "df_price_elasticities['PE_Segment_3'] = pe_segment_3\n",
    "df_price_elasticities[['PE_Segment_1','PE_Segment_2', 'PE_Segment_3']].plot(figsize=(10,9))"
   ]
  },
  {
   "cell_type": "code",
   "execution_count": null,
   "metadata": {},
   "outputs": [],
   "source": []
  },
  {
   "cell_type": "code",
   "execution_count": null,
   "metadata": {},
   "outputs": [],
   "source": []
  },
  {
   "cell_type": "code",
   "execution_count": null,
   "metadata": {},
   "outputs": [],
   "source": []
  }
 ],
 "metadata": {
  "kernelspec": {
   "display_name": "Python 3",
   "language": "python",
   "name": "python3"
  },
  "language_info": {
   "codemirror_mode": {
    "name": "ipython",
    "version": 3
   },
   "file_extension": ".py",
   "mimetype": "text/x-python",
   "name": "python",
   "nbconvert_exporter": "python",
   "pygments_lexer": "ipython3",
   "version": "3.7.3"
  }
 },
 "nbformat": 4,
 "nbformat_minor": 4
}
